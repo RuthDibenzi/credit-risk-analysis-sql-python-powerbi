{
 "cells": [
  {
   "cell_type": "code",
   "execution_count": 17,
   "metadata": {},
   "outputs": [],
   "source": [
    "import pandas as pd "
   ]
  },
  {
   "cell_type": "code",
   "execution_count": 18,
   "metadata": {},
   "outputs": [],
   "source": [
    "from dotenv import load_dotenv\n",
    "import os"
   ]
  },
  {
   "cell_type": "code",
   "execution_count": 19,
   "metadata": {},
   "outputs": [],
   "source": [
    "# mysql connector \n",
    "\n",
    "import mysql.connector\n",
    "\n",
    "# Load .env variables\n",
    "load_dotenv()\n",
    "\n",
    "# Read credentials from environment\n",
    "host = os.getenv(\"DB_HOST\")\n",
    "user = os.getenv(\"DB_USER\")\n",
    "password = os.getenv(\"DB_PASSWORD\")\n",
    "database = os.getenv(\"DB_NAME\")\n",
    "\n",
    "\n",
    "cnx = mysql.connector.connect (\n",
    "\n",
    " host=host,\n",
    "    user=user,\n",
    "    password=password,\n",
    "    database=database\n",
    "\n",
    ")"
   ]
  },
  {
   "cell_type": "code",
   "execution_count": 20,
   "metadata": {},
   "outputs": [],
   "source": [
    "query = \"SELECT * FROM banking_case.customer\""
   ]
  },
  {
   "cell_type": "code",
   "execution_count": 21,
   "metadata": {},
   "outputs": [
    {
     "name": "stderr",
     "output_type": "stream",
     "text": [
      "/var/folders/tm/vcz7ypds6b5gpns5q4zj32bc0000gn/T/ipykernel_37610/2505017980.py:1: UserWarning: pandas only supports SQLAlchemy connectable (engine/connection) or database string URI or sqlite3 DBAPI2 connection. Other DBAPI2 objects are not tested. Please consider using SQLAlchemy.\n",
      "  df = pd.read_sql(query,cux)\n"
     ]
    }
   ],
   "source": [
    "df = pd.read_sql(query,cux)"
   ]
  },
  {
   "cell_type": "code",
   "execution_count": 22,
   "metadata": {},
   "outputs": [],
   "source": [
    "cnx.close()"
   ]
  },
  {
   "cell_type": "code",
   "execution_count": 23,
   "metadata": {},
   "outputs": [
    {
     "name": "stdout",
     "output_type": "stream",
     "text": [
      "     Client ID              Name  Age  Location ID Joined Bank  \\\n",
      "0     IND81288     Raymond Mills   24        34324  06-05-2019   \n",
      "1     IND65833     Julia Spencer   23        42205  10-12-2001   \n",
      "2     IND47499    Stephen Murray   27         7314  25-01-2010   \n",
      "3     IND72498    Virginia Garza   40        34594  28-03-2019   \n",
      "4     IND60181   Melissa Sanders   46        41269  20-07-2012   \n",
      "...        ...               ...  ...          ...         ...   \n",
      "2995  IND66827         Earl Hall   82         8760  09-10-2014   \n",
      "2996  IND40556  Billy Williamson   44        32837  05-02-2009   \n",
      "2997  IND72414      Victor Black   70        36088  29-12-2009   \n",
      "2998  IND46652       Andrew Ford   56        24871  13-02-2006   \n",
      "2999  IND40216        Amy Nguyen   79        38518  08-12-2005   \n",
      "\n",
      "          Banking Contact Nationality                     Occupation  \\\n",
      "0          Anthony Torres    American           Safety Technician IV   \n",
      "1        Jonathan Hawkins     African            Software Consultant   \n",
      "2           Anthony Berry    European             Help Desk Operator   \n",
      "3              Steve Diaz    American                   Geologist II   \n",
      "4              Shawn Long    American            Assistant Professor   \n",
      "...                   ...         ...                            ...   \n",
      "2995       Joshua Bennett    American       Accounting Assistant III   \n",
      "2996          Dennis Ruiz    European                      Paralegal   \n",
      "2997          Joshua Ryan    American                Statistician IV   \n",
      "2998  Nicholas Cunningham    European  Human Resources Assistant III   \n",
      "2999           Joe Hanson    American            Biostatistician III   \n",
      "\n",
      "     Fee Structure Loyalty Classification  ...  Bank Deposits  \\\n",
      "0             High                   Jade  ...     1485828.64   \n",
      "1             High                   Jade  ...      641482.79   \n",
      "2             High                   Gold  ...     1033401.59   \n",
      "3              Mid                 Silver  ...     1048157.49   \n",
      "4              Mid               Platinum  ...      487782.53   \n",
      "...            ...                    ...  ...            ...   \n",
      "2995          High                   Gold  ...     1089957.03   \n",
      "2996           Mid                   Gold  ...      136891.32   \n",
      "2997           Low                   Jade  ...      214860.89   \n",
      "2998           Mid                   Jade  ...      742630.22   \n",
      "2999          High                   Jade  ...       65617.66   \n",
      "\n",
      "      Checking Accounts  Saving Accounts  Foreign Currency Account  \\\n",
      "0             603617.88        607332.46                  12249.96   \n",
      "1             229521.37        344635.16                  61162.31   \n",
      "2             652674.69        203054.35                  79071.78   \n",
      "3            1048157.49        234685.02                  57513.65   \n",
      "4             446644.25        128351.45                  30012.14   \n",
      "...                 ...              ...                       ...   \n",
      "2995          532867.88        657849.62                  12947.31   \n",
      "2996           56581.74         93195.61                  23205.69   \n",
      "2997          158726.06         35539.15                  30291.81   \n",
      "2998          404638.26         56411.33                   6413.14   \n",
      "2999           77769.08         32371.38                   8992.36   \n",
      "\n",
      "      Business Lending  Properties Owned  Risk Weighting  BRId  GenderId  IAId  \n",
      "0           1134475.30                 1               2     1         1     1  \n",
      "1           2000526.10                 1               3     2         1     2  \n",
      "2            548137.58                 1               3     3         2     3  \n",
      "3           1148402.29                 0               4     4         1     4  \n",
      "4           1674412.12                 0               3     1         2     5  \n",
      "...                ...               ...             ...   ...       ...   ...  \n",
      "2995        1238859.91                 1               3     3         2     4  \n",
      "2996         277171.07                 1               2     3         2     5  \n",
      "2997         502947.22                 2               2     3         2     6  \n",
      "2998        1538368.60                 3               1     3         2     7  \n",
      "2999         329412.55                 1               1     3         2     8  \n",
      "\n",
      "[3000 rows x 25 columns]\n"
     ]
    }
   ],
   "source": [
    "print(df)"
   ]
  }
 ],
 "metadata": {
  "kernelspec": {
   "display_name": "base",
   "language": "python",
   "name": "python3"
  },
  "language_info": {
   "codemirror_mode": {
    "name": "ipython",
    "version": 3
   },
   "file_extension": ".py",
   "mimetype": "text/x-python",
   "name": "python",
   "nbconvert_exporter": "python",
   "pygments_lexer": "ipython3",
   "version": "3.11.5"
  }
 },
 "nbformat": 4,
 "nbformat_minor": 2
}
